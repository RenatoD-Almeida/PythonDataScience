{
 "cells": [
  {
   "cell_type": "code",
   "execution_count": 63,
   "id": "90fd694d",
   "metadata": {},
   "outputs": [],
   "source": [
    "import pandas as pd\n",
    "import matplotlib.pyplot as plt"
   ]
  },
  {
   "cell_type": "code",
   "execution_count": 84,
   "id": "30eb759a",
   "metadata": {},
   "outputs": [
    {
     "data": {
      "text/html": [
       "<div>\n",
       "<style scoped>\n",
       "    .dataframe tbody tr th:only-of-type {\n",
       "        vertical-align: middle;\n",
       "    }\n",
       "\n",
       "    .dataframe tbody tr th {\n",
       "        vertical-align: top;\n",
       "    }\n",
       "\n",
       "    .dataframe thead th {\n",
       "        text-align: right;\n",
       "    }\n",
       "</style>\n",
       "<table border=\"1\" class=\"dataframe\">\n",
       "  <thead>\n",
       "    <tr style=\"text-align: right;\">\n",
       "      <th></th>\n",
       "      <th>Produto</th>\n",
       "      <th>Qtd Estoque Atual</th>\n",
       "    </tr>\n",
       "  </thead>\n",
       "  <tbody>\n",
       "    <tr>\n",
       "      <th>0</th>\n",
       "      <td>ÁCIDO URSODESOXICÓLICO 300 MG COMPRIMIDO ELENC...</td>\n",
       "      <td>2.680</td>\n",
       "    </tr>\n",
       "    <tr>\n",
       "      <th>1</th>\n",
       "      <td>ACITRETINA 10 MG CAP GRUPO 1.B</td>\n",
       "      <td>2.400</td>\n",
       "    </tr>\n",
       "    <tr>\n",
       "      <th>2</th>\n",
       "      <td>ACITRETINA 25 MG CAP GRUPO 1.B</td>\n",
       "      <td>6.220</td>\n",
       "    </tr>\n",
       "    <tr>\n",
       "      <th>3</th>\n",
       "      <td>ALFADORNASE 2,5 MG AMP GRUPO 1.B</td>\n",
       "      <td>1.044</td>\n",
       "    </tr>\n",
       "    <tr>\n",
       "      <th>4</th>\n",
       "      <td>AMANTADINA 100 MG COMP GRUPO 1.B</td>\n",
       "      <td>16.720</td>\n",
       "    </tr>\n",
       "  </tbody>\n",
       "</table>\n",
       "</div>"
      ],
      "text/plain": [
       "                                             Produto Qtd Estoque Atual\n",
       "0  ÁCIDO URSODESOXICÓLICO 300 MG COMPRIMIDO ELENC...             2.680\n",
       "1                    ACITRETINA 10 MG CAP GRUPO 1.B              2.400\n",
       "2                    ACITRETINA 25 MG CAP GRUPO 1.B              6.220\n",
       "3                  ALFADORNASE 2,5 MG AMP GRUPO 1.B              1.044\n",
       "4                  AMANTADINA 100 MG COMP GRUPO 1.B             16.720"
      ]
     },
     "execution_count": 84,
     "metadata": {},
     "output_type": "execute_result"
    }
   ],
   "source": [
    "df = pd.read_csv('posicao-de-estoque-csv.csv', sep = ';', encoding='cp1252')\n",
    "df.head()"
   ]
  },
  {
   "cell_type": "code",
   "execution_count": 114,
   "id": "c2ff41db",
   "metadata": {
    "scrolled": true
   },
   "outputs": [
    {
     "data": {
      "text/plain": [
       "Produto    131\n",
       "Estoque    131\n",
       "dtype: int64"
      ]
     },
     "execution_count": 114,
     "metadata": {},
     "output_type": "execute_result"
    }
   ],
   "source": [
    "df.columns = ['Produto', 'Estoque']\n",
    "\n",
    "df.count()"
   ]
  },
  {
   "cell_type": "code",
   "execution_count": 115,
   "id": "dfbe2a96",
   "metadata": {},
   "outputs": [
    {
     "data": {
      "text/html": [
       "<div>\n",
       "<style scoped>\n",
       "    .dataframe tbody tr th:only-of-type {\n",
       "        vertical-align: middle;\n",
       "    }\n",
       "\n",
       "    .dataframe tbody tr th {\n",
       "        vertical-align: top;\n",
       "    }\n",
       "\n",
       "    .dataframe thead th {\n",
       "        text-align: right;\n",
       "    }\n",
       "</style>\n",
       "<table border=\"1\" class=\"dataframe\">\n",
       "  <thead>\n",
       "    <tr style=\"text-align: right;\">\n",
       "      <th></th>\n",
       "      <th>Produto</th>\n",
       "      <th>Estoque</th>\n",
       "    </tr>\n",
       "  </thead>\n",
       "  <tbody>\n",
       "    <tr>\n",
       "      <th>0</th>\n",
       "      <td>ÁCIDO URSODESOXICÓLICO 300 MG COMPRIMIDO ELENC...</td>\n",
       "      <td>2.680</td>\n",
       "    </tr>\n",
       "    <tr>\n",
       "      <th>1</th>\n",
       "      <td>ACITRETINA 10 MG CAP GRUPO 1.B</td>\n",
       "      <td>2.400</td>\n",
       "    </tr>\n",
       "    <tr>\n",
       "      <th>2</th>\n",
       "      <td>ACITRETINA 25 MG CAP GRUPO 1.B</td>\n",
       "      <td>6.220</td>\n",
       "    </tr>\n",
       "    <tr>\n",
       "      <th>3</th>\n",
       "      <td>ALFADORNASE 2,5 MG AMP GRUPO 1.B</td>\n",
       "      <td>1.044</td>\n",
       "    </tr>\n",
       "    <tr>\n",
       "      <th>4</th>\n",
       "      <td>AMANTADINA 100 MG COMP GRUPO 1.B</td>\n",
       "      <td>16.720</td>\n",
       "    </tr>\n",
       "    <tr>\n",
       "      <th>...</th>\n",
       "      <td>...</td>\n",
       "      <td>...</td>\n",
       "    </tr>\n",
       "    <tr>\n",
       "      <th>126</th>\n",
       "      <td>TRIPTORRELINA 3,75 MG SUSP INJ (FR-AMP) GRUPO ...</td>\n",
       "      <td>138</td>\n",
       "    </tr>\n",
       "    <tr>\n",
       "      <th>127</th>\n",
       "      <td>VIGABATRINA 500 MG COMP GRUPO 2</td>\n",
       "      <td>2.550</td>\n",
       "    </tr>\n",
       "    <tr>\n",
       "      <th>128</th>\n",
       "      <td>ZIPRASIDONA 40 MG CÁPSULA  ELENCO ESTADUAL</td>\n",
       "      <td>1.470</td>\n",
       "    </tr>\n",
       "    <tr>\n",
       "      <th>129</th>\n",
       "      <td>ZIPRASIDONA 80 MG CÁPSULA  ELENCO ESTADUAL</td>\n",
       "      <td>2.940</td>\n",
       "    </tr>\n",
       "    <tr>\n",
       "      <th>130</th>\n",
       "      <td>Total</td>\n",
       "      <td>1.309.810</td>\n",
       "    </tr>\n",
       "  </tbody>\n",
       "</table>\n",
       "<p>131 rows × 2 columns</p>\n",
       "</div>"
      ],
      "text/plain": [
       "                                               Produto    Estoque\n",
       "0    ÁCIDO URSODESOXICÓLICO 300 MG COMPRIMIDO ELENC...      2.680\n",
       "1                      ACITRETINA 10 MG CAP GRUPO 1.B       2.400\n",
       "2                      ACITRETINA 25 MG CAP GRUPO 1.B       6.220\n",
       "3                    ALFADORNASE 2,5 MG AMP GRUPO 1.B       1.044\n",
       "4                    AMANTADINA 100 MG COMP GRUPO 1.B      16.720\n",
       "..                                                 ...        ...\n",
       "126  TRIPTORRELINA 3,75 MG SUSP INJ (FR-AMP) GRUPO ...        138\n",
       "127                   VIGABATRINA 500 MG COMP GRUPO 2       2.550\n",
       "128        ZIPRASIDONA 40 MG CÁPSULA  ELENCO ESTADUAL       1.470\n",
       "129        ZIPRASIDONA 80 MG CÁPSULA  ELENCO ESTADUAL       2.940\n",
       "130                                              Total  1.309.810\n",
       "\n",
       "[131 rows x 2 columns]"
      ]
     },
     "execution_count": 115,
     "metadata": {},
     "output_type": "execute_result"
    }
   ],
   "source": [
    "df"
   ]
  },
  {
   "cell_type": "code",
   "execution_count": 132,
   "id": "0db10887",
   "metadata": {},
   "outputs": [
    {
     "data": {
      "text/html": [
       "<div>\n",
       "<style scoped>\n",
       "    .dataframe tbody tr th:only-of-type {\n",
       "        vertical-align: middle;\n",
       "    }\n",
       "\n",
       "    .dataframe tbody tr th {\n",
       "        vertical-align: top;\n",
       "    }\n",
       "\n",
       "    .dataframe thead th {\n",
       "        text-align: right;\n",
       "    }\n",
       "</style>\n",
       "<table border=\"1\" class=\"dataframe\">\n",
       "  <thead>\n",
       "    <tr style=\"text-align: right;\">\n",
       "      <th></th>\n",
       "      <th>Produto</th>\n",
       "      <th>Estoque</th>\n",
       "    </tr>\n",
       "  </thead>\n",
       "  <tbody>\n",
       "    <tr>\n",
       "      <th>128</th>\n",
       "      <td>ZIPRASIDONA 40 MG CÁPSULA  ELENCO ESTADUAL</td>\n",
       "      <td>1.470</td>\n",
       "    </tr>\n",
       "    <tr>\n",
       "      <th>129</th>\n",
       "      <td>ZIPRASIDONA 80 MG CÁPSULA  ELENCO ESTADUAL</td>\n",
       "      <td>2.940</td>\n",
       "    </tr>\n",
       "  </tbody>\n",
       "</table>\n",
       "</div>"
      ],
      "text/plain": [
       "                                         Produto Estoque\n",
       "128  ZIPRASIDONA 40 MG CÁPSULA  ELENCO ESTADUAL    1.470\n",
       "129  ZIPRASIDONA 80 MG CÁPSULA  ELENCO ESTADUAL    2.940"
      ]
     },
     "execution_count": 132,
     "metadata": {},
     "output_type": "execute_result"
    }
   ],
   "source": [
    "df[df['Produto'].str.contains(\"ZIPRA\")]"
   ]
  },
  {
   "cell_type": "code",
   "execution_count": null,
   "id": "e3de23f2",
   "metadata": {
    "scrolled": false
   },
   "outputs": [],
   "source": [
    "\n"
   ]
  },
  {
   "cell_type": "code",
   "execution_count": null,
   "id": "4e507531",
   "metadata": {},
   "outputs": [],
   "source": []
  }
 ],
 "metadata": {
  "kernelspec": {
   "display_name": "Python 3 (ipykernel)",
   "language": "python",
   "name": "python3"
  },
  "language_info": {
   "codemirror_mode": {
    "name": "ipython",
    "version": 3
   },
   "file_extension": ".py",
   "mimetype": "text/x-python",
   "name": "python",
   "nbconvert_exporter": "python",
   "pygments_lexer": "ipython3",
   "version": "3.9.7"
  }
 },
 "nbformat": 4,
 "nbformat_minor": 5
}
