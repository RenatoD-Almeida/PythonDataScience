{
 "cells": [
  {
   "cell_type": "code",
   "execution_count": 2,
   "id": "a22e5ccb",
   "metadata": {},
   "outputs": [],
   "source": [
    "import pandas as pd\n",
    "%matplotlib inline"
   ]
  },
  {
   "cell_type": "code",
   "execution_count": 39,
   "id": "ee3fef4a",
   "metadata": {},
   "outputs": [
    {
     "data": {
      "text/html": [
       "<div>\n",
       "<style scoped>\n",
       "    .dataframe tbody tr th:only-of-type {\n",
       "        vertical-align: middle;\n",
       "    }\n",
       "\n",
       "    .dataframe tbody tr th {\n",
       "        vertical-align: top;\n",
       "    }\n",
       "\n",
       "    .dataframe thead th {\n",
       "        text-align: right;\n",
       "    }\n",
       "</style>\n",
       "<table border=\"1\" class=\"dataframe\">\n",
       "  <thead>\n",
       "    <tr style=\"text-align: right;\">\n",
       "      <th></th>\n",
       "      <th>tipo_infracao</th>\n",
       "      <th>descricao</th>\n",
       "      <th>cometimento</th>\n",
       "      <th>hora_cometimento</th>\n",
       "      <th>auinf_local_rodovia</th>\n",
       "    </tr>\n",
       "  </thead>\n",
       "  <tbody>\n",
       "    <tr>\n",
       "      <th>0</th>\n",
       "      <td>7455-0</td>\n",
       "      <td>Transitar em velocidade superior à máxima perm...</td>\n",
       "      <td>01/01/2022</td>\n",
       "      <td>00:00</td>\n",
       "      <td>DF-003 (EPIA) KM 26,9 SENTIDO NORTE           ...</td>\n",
       "    </tr>\n",
       "    <tr>\n",
       "      <th>1</th>\n",
       "      <td>7455-0</td>\n",
       "      <td>Transitar em velocidade superior à máxima perm...</td>\n",
       "      <td>01/01/2022</td>\n",
       "      <td>00:02</td>\n",
       "      <td>DF-001 (EPCT) KM 74,4 (PISTAO SUL) SENTIDO DF-...</td>\n",
       "    </tr>\n",
       "    <tr>\n",
       "      <th>2</th>\n",
       "      <td>7455-0</td>\n",
       "      <td>Transitar em velocidade superior à máxima perm...</td>\n",
       "      <td>01/01/2022</td>\n",
       "      <td>00:02</td>\n",
       "      <td>DF-003(EPIA-TRECHO EIXO MONUM./DF-095(EPCL))KM...</td>\n",
       "    </tr>\n",
       "    <tr>\n",
       "      <th>3</th>\n",
       "      <td>7455-0</td>\n",
       "      <td>Transitar em velocidade superior à máxima perm...</td>\n",
       "      <td>01/01/2022</td>\n",
       "      <td>00:04</td>\n",
       "      <td>DF-075 (EPNB) KM 0,5 SENTIDO SAMAMBAIA        ...</td>\n",
       "    </tr>\n",
       "    <tr>\n",
       "      <th>4</th>\n",
       "      <td>7455-0</td>\n",
       "      <td>Transitar em velocidade superior à máxima perm...</td>\n",
       "      <td>01/01/2022</td>\n",
       "      <td>00:05</td>\n",
       "      <td>DF-011 (EPIG) KM 0,8 SENT EIXO MONUM/EPTG (PRO...</td>\n",
       "    </tr>\n",
       "  </tbody>\n",
       "</table>\n",
       "</div>"
      ],
      "text/plain": [
       "  tipo_infracao                                          descricao  \\\n",
       "0        7455-0  Transitar em velocidade superior à máxima perm...   \n",
       "1        7455-0  Transitar em velocidade superior à máxima perm...   \n",
       "2        7455-0  Transitar em velocidade superior à máxima perm...   \n",
       "3        7455-0  Transitar em velocidade superior à máxima perm...   \n",
       "4        7455-0  Transitar em velocidade superior à máxima perm...   \n",
       "\n",
       "  cometimento hora_cometimento  \\\n",
       "0  01/01/2022            00:00   \n",
       "1  01/01/2022            00:02   \n",
       "2  01/01/2022            00:02   \n",
       "3  01/01/2022            00:04   \n",
       "4  01/01/2022            00:05   \n",
       "\n",
       "                                 auinf_local_rodovia  \n",
       "0  DF-003 (EPIA) KM 26,9 SENTIDO NORTE           ...  \n",
       "1  DF-001 (EPCT) KM 74,4 (PISTAO SUL) SENTIDO DF-...  \n",
       "2  DF-003(EPIA-TRECHO EIXO MONUM./DF-095(EPCL))KM...  \n",
       "3  DF-075 (EPNB) KM 0,5 SENTIDO SAMAMBAIA        ...  \n",
       "4  DF-011 (EPIG) KM 0,8 SENT EIXO MONUM/EPTG (PRO...  "
      ]
     },
     "execution_count": 39,
     "metadata": {},
     "output_type": "execute_result"
    }
   ],
   "source": [
    "df = pd.read_csv('dados-abertos--jan2022.csv', sep=';', usecols = [0, 1, 4, 5, 6])\n",
    "df.head()"
   ]
  },
  {
   "cell_type": "markdown",
   "id": "cc559396",
   "metadata": {},
   "source": [
    "Comentário legal"
   ]
  },
  {
   "cell_type": "code",
   "execution_count": 55,
   "id": "852986fb",
   "metadata": {},
   "outputs": [
    {
     "data": {
      "text/plain": [
       "DF 001                                                                              8856\n",
       "DF-075 (EPNB) KM 7,6 SENTIDO R. FUNDO/SAMAMBAIA                                     4768\n",
       "DF-003(EPIA-TRECHO EIXO MONUM./DF-095(EPCL))KM 13,7-VIA MARG.,SENT.SUL(DF-095)      3164\n",
       "DF 003                                                                              2941\n",
       "DF-075 (EPNB) KM 4,4 SENT. N. BAND. / RIACHO FUNDO                                  2833\n",
       "Name: auinf_local_rodovia, dtype: int64"
      ]
     },
     "execution_count": 55,
     "metadata": {},
     "output_type": "execute_result"
    }
   ],
   "source": [
    "df['auinf_local_rodovia'].value_counts().head()"
   ]
  },
  {
   "cell_type": "code",
   "execution_count": 46,
   "id": "ec7047e9",
   "metadata": {},
   "outputs": [
    {
     "data": {
      "text/plain": [
       "tipo_infracao  descricao                                                                    \n",
       "7455-0         Transitar em velocidade superior à máxima permitida em até 20%                   40287\n",
       "5681-0         Transitar na faixa/pista da direita regul circulação exclusiva determ veículo    15920\n",
       "6769-0         Conduzir veíc c/ defeito no sist de iluminação, sinaliz ou lâmpadas queimadas     2742\n",
       "5185-1         Deixar o condutor de usar o cinto segurança                                       2561\n",
       "7463-0         Transitar em velocidade superior à máxima permitida em mais de 20% até 50%        2377\n",
       "dtype: int64"
      ]
     },
     "execution_count": 46,
     "metadata": {},
     "output_type": "execute_result"
    }
   ],
   "source": [
    "df[['tipo_infracao', 'descricao']].value_counts().head()"
   ]
  },
  {
   "cell_type": "code",
   "execution_count": 56,
   "id": "99ac1dc2",
   "metadata": {},
   "outputs": [
    {
     "data": {
      "text/plain": [
       "<AxesSubplot:ylabel='tipo_infracao,descricao'>"
      ]
     },
     "execution_count": 56,
     "metadata": {},
     "output_type": "execute_result"
    },
    {
     "data": {
      "image/png": "[encoded data removed]",
      "text/plain": [
       "<Figure size 432x288 with 1 Axes>"
      ]
     },
     "metadata": {
      "needs_background": "light"
     },
     "output_type": "display_data"
    }
   ],
   "source": [
    "df[['tipo_infracao', 'descricao']].value_counts().head().plot.barh()"
   ]
  },
  {
   "cell_type": "code",
   "execution_count": 70,
   "id": "d22e870e",
   "metadata": {},
   "outputs": [
    {
     "data": {
      "text/html": [
       "<div>\n",
       "<style scoped>\n",
       "    .dataframe tbody tr th:only-of-type {\n",
       "        vertical-align: middle;\n",
       "    }\n",
       "\n",
       "    .dataframe tbody tr th {\n",
       "        vertical-align: top;\n",
       "    }\n",
       "\n",
       "    .dataframe thead th {\n",
       "        text-align: right;\n",
       "    }\n",
       "</style>\n",
       "<table border=\"1\" class=\"dataframe\">\n",
       "  <thead>\n",
       "    <tr style=\"text-align: right;\">\n",
       "      <th></th>\n",
       "      <th>tipo_infracao</th>\n",
       "      <th>descricao</th>\n",
       "      <th>cometimento</th>\n",
       "      <th>hora_cometimento</th>\n",
       "      <th>auinf_local_rodovia</th>\n",
       "    </tr>\n",
       "  </thead>\n",
       "  <tbody>\n",
       "    <tr>\n",
       "      <th>0</th>\n",
       "      <td>7455-0</td>\n",
       "      <td>Transitar em velocidade superior à máxima perm...</td>\n",
       "      <td>01/01/2022</td>\n",
       "      <td>00:00</td>\n",
       "      <td>DF-003 (EPIA) KM 26,9 SENTIDO NORTE           ...</td>\n",
       "    </tr>\n",
       "    <tr>\n",
       "      <th>1</th>\n",
       "      <td>7455-0</td>\n",
       "      <td>Transitar em velocidade superior à máxima perm...</td>\n",
       "      <td>01/01/2022</td>\n",
       "      <td>00:02</td>\n",
       "      <td>DF-001 (EPCT) KM 74,4 (PISTAO SUL) SENTIDO DF-...</td>\n",
       "    </tr>\n",
       "    <tr>\n",
       "      <th>2</th>\n",
       "      <td>7455-0</td>\n",
       "      <td>Transitar em velocidade superior à máxima perm...</td>\n",
       "      <td>01/01/2022</td>\n",
       "      <td>00:02</td>\n",
       "      <td>DF-003(EPIA-TRECHO EIXO MONUM./DF-095(EPCL))KM...</td>\n",
       "    </tr>\n",
       "    <tr>\n",
       "      <th>3</th>\n",
       "      <td>7455-0</td>\n",
       "      <td>Transitar em velocidade superior à máxima perm...</td>\n",
       "      <td>01/01/2022</td>\n",
       "      <td>00:04</td>\n",
       "      <td>DF-075 (EPNB) KM 0,5 SENTIDO SAMAMBAIA        ...</td>\n",
       "    </tr>\n",
       "    <tr>\n",
       "      <th>4</th>\n",
       "      <td>7455-0</td>\n",
       "      <td>Transitar em velocidade superior à máxima perm...</td>\n",
       "      <td>01/01/2022</td>\n",
       "      <td>00:05</td>\n",
       "      <td>DF-011 (EPIG) KM 0,8 SENT EIXO MONUM/EPTG (PRO...</td>\n",
       "    </tr>\n",
       "    <tr>\n",
       "      <th>...</th>\n",
       "      <td>...</td>\n",
       "      <td>...</td>\n",
       "      <td>...</td>\n",
       "      <td>...</td>\n",
       "      <td>...</td>\n",
       "    </tr>\n",
       "    <tr>\n",
       "      <th>78519</th>\n",
       "      <td>7455-0</td>\n",
       "      <td>Transitar em velocidade superior à máxima perm...</td>\n",
       "      <td>31/01/2022</td>\n",
       "      <td>23:55</td>\n",
       "      <td>DF-011 (EPIG) KM 0,8 SENT EIXO MONUM/EPTG (PRO...</td>\n",
       "    </tr>\n",
       "    <tr>\n",
       "      <th>78520</th>\n",
       "      <td>7455-0</td>\n",
       "      <td>Transitar em velocidade superior à máxima perm...</td>\n",
       "      <td>31/01/2022</td>\n",
       "      <td>23:55</td>\n",
       "      <td>DF-002 (EIXAO NORTE) KM 2,4 SENTIDO RODOVIARIA...</td>\n",
       "    </tr>\n",
       "    <tr>\n",
       "      <th>78521</th>\n",
       "      <td>7455-0</td>\n",
       "      <td>Transitar em velocidade superior à máxima perm...</td>\n",
       "      <td>31/01/2022</td>\n",
       "      <td>23:56</td>\n",
       "      <td>DF-001 (EPCT) KM 74,4 (PISTAO SUL) SENTIDO DF-...</td>\n",
       "    </tr>\n",
       "    <tr>\n",
       "      <th>78522</th>\n",
       "      <td>7455-0</td>\n",
       "      <td>Transitar em velocidade superior à máxima perm...</td>\n",
       "      <td>31/01/2022</td>\n",
       "      <td>23:58</td>\n",
       "      <td>DF-001 (EPCT) KM 78,9 (PISTAO NORTE) SENTIDO D...</td>\n",
       "    </tr>\n",
       "    <tr>\n",
       "      <th>78523</th>\n",
       "      <td>7455-0</td>\n",
       "      <td>Transitar em velocidade superior à máxima perm...</td>\n",
       "      <td>31/01/2022</td>\n",
       "      <td>23:58</td>\n",
       "      <td>DF-085(EPTG) KM 8,1 SENTIDO DF-001(TAGUATINGA)...</td>\n",
       "    </tr>\n",
       "  </tbody>\n",
       "</table>\n",
       "<p>40287 rows × 5 columns</p>\n",
       "</div>"
      ],
      "text/plain": [
       "      tipo_infracao                                          descricao  \\\n",
       "0            7455-0  Transitar em velocidade superior à máxima perm...   \n",
       "1            7455-0  Transitar em velocidade superior à máxima perm...   \n",
       "2            7455-0  Transitar em velocidade superior à máxima perm...   \n",
       "3            7455-0  Transitar em velocidade superior à máxima perm...   \n",
       "4            7455-0  Transitar em velocidade superior à máxima perm...   \n",
       "...             ...                                                ...   \n",
       "78519        7455-0  Transitar em velocidade superior à máxima perm...   \n",
       "78520        7455-0  Transitar em velocidade superior à máxima perm...   \n",
       "78521        7455-0  Transitar em velocidade superior à máxima perm...   \n",
       "78522        7455-0  Transitar em velocidade superior à máxima perm...   \n",
       "78523        7455-0  Transitar em velocidade superior à máxima perm...   \n",
       "\n",
       "      cometimento hora_cometimento  \\\n",
       "0      01/01/2022            00:00   \n",
       "1      01/01/2022            00:02   \n",
       "2      01/01/2022            00:02   \n",
       "3      01/01/2022            00:04   \n",
       "4      01/01/2022            00:05   \n",
       "...           ...              ...   \n",
       "78519  31/01/2022            23:55   \n",
       "78520  31/01/2022            23:55   \n",
       "78521  31/01/2022            23:56   \n",
       "78522  31/01/2022            23:58   \n",
       "78523  31/01/2022            23:58   \n",
       "\n",
       "                                     auinf_local_rodovia  \n",
       "0      DF-003 (EPIA) KM 26,9 SENTIDO NORTE           ...  \n",
       "1      DF-001 (EPCT) KM 74,4 (PISTAO SUL) SENTIDO DF-...  \n",
       "2      DF-003(EPIA-TRECHO EIXO MONUM./DF-095(EPCL))KM...  \n",
       "3      DF-075 (EPNB) KM 0,5 SENTIDO SAMAMBAIA        ...  \n",
       "4      DF-011 (EPIG) KM 0,8 SENT EIXO MONUM/EPTG (PRO...  \n",
       "...                                                  ...  \n",
       "78519  DF-011 (EPIG) KM 0,8 SENT EIXO MONUM/EPTG (PRO...  \n",
       "78520  DF-002 (EIXAO NORTE) KM 2,4 SENTIDO RODOVIARIA...  \n",
       "78521  DF-001 (EPCT) KM 74,4 (PISTAO SUL) SENTIDO DF-...  \n",
       "78522  DF-001 (EPCT) KM 78,9 (PISTAO NORTE) SENTIDO D...  \n",
       "78523  DF-085(EPTG) KM 8,1 SENTIDO DF-001(TAGUATINGA)...  \n",
       "\n",
       "[40287 rows x 5 columns]"
      ]
     },
     "execution_count": 70,
     "metadata": {},
     "output_type": "execute_result"
    }
   ],
   "source": [
    "df[df['tipo_infracao'] == '7455-0']"
   ]
  },
  {
   "cell_type": "code",
   "execution_count": 74,
   "id": "c0274b59",
   "metadata": {},
   "outputs": [
    {
     "data": {
      "text/html": [
       "<div>\n",
       "<style scoped>\n",
       "    .dataframe tbody tr th:only-of-type {\n",
       "        vertical-align: middle;\n",
       "    }\n",
       "\n",
       "    .dataframe tbody tr th {\n",
       "        vertical-align: top;\n",
       "    }\n",
       "\n",
       "    .dataframe thead th {\n",
       "        text-align: right;\n",
       "    }\n",
       "</style>\n",
       "<table border=\"1\" class=\"dataframe\">\n",
       "  <thead>\n",
       "    <tr style=\"text-align: right;\">\n",
       "      <th></th>\n",
       "      <th>tipo_infracao</th>\n",
       "      <th>descricao</th>\n",
       "      <th>cometimento</th>\n",
       "      <th>hora_cometimento</th>\n",
       "      <th>auinf_local_rodovia</th>\n",
       "    </tr>\n",
       "  </thead>\n",
       "  <tbody>\n",
       "    <tr>\n",
       "      <th>count</th>\n",
       "      <td>40287</td>\n",
       "      <td>40287</td>\n",
       "      <td>40287</td>\n",
       "      <td>40287</td>\n",
       "      <td>40287</td>\n",
       "    </tr>\n",
       "    <tr>\n",
       "      <th>unique</th>\n",
       "      <td>1</td>\n",
       "      <td>1</td>\n",
       "      <td>31</td>\n",
       "      <td>1439</td>\n",
       "      <td>177</td>\n",
       "    </tr>\n",
       "    <tr>\n",
       "      <th>top</th>\n",
       "      <td>7455-0</td>\n",
       "      <td>Transitar em velocidade superior à máxima perm...</td>\n",
       "      <td>15/01/2022</td>\n",
       "      <td>12:27</td>\n",
       "      <td>DF-003(EPIA-TRECHO EIXO MONUM./DF-095(EPCL))KM...</td>\n",
       "    </tr>\n",
       "    <tr>\n",
       "      <th>freq</th>\n",
       "      <td>40287</td>\n",
       "      <td>40287</td>\n",
       "      <td>1595</td>\n",
       "      <td>64</td>\n",
       "      <td>3040</td>\n",
       "    </tr>\n",
       "  </tbody>\n",
       "</table>\n",
       "</div>"
      ],
      "text/plain": [
       "       tipo_infracao                                          descricao  \\\n",
       "count          40287                                              40287   \n",
       "unique             1                                                  1   \n",
       "top           7455-0  Transitar em velocidade superior à máxima perm...   \n",
       "freq           40287                                              40287   \n",
       "\n",
       "       cometimento hora_cometimento  \\\n",
       "count        40287            40287   \n",
       "unique          31             1439   \n",
       "top     15/01/2022            12:27   \n",
       "freq          1595               64   \n",
       "\n",
       "                                      auinf_local_rodovia  \n",
       "count                                               40287  \n",
       "unique                                                177  \n",
       "top     DF-003(EPIA-TRECHO EIXO MONUM./DF-095(EPCL))KM...  \n",
       "freq                                                 3040  "
      ]
     },
     "execution_count": 74,
     "metadata": {},
     "output_type": "execute_result"
    }
   ],
   "source": [
    "df[df['tipo_infracao'] == '7455-0'].describe()"
   ]
  }
 ],
 "metadata": {
  "kernelspec": {
   "display_name": "Python 3 (ipykernel)",
   "language": "python",
   "name": "python3"
  },
  "language_info": {
   "codemirror_mode": {
    "name": "ipython",
    "version": 3
   },
   "file_extension": ".py",
   "mimetype": "text/x-python",
   "name": "python",
   "nbconvert_exporter": "python",
   "pygments_lexer": "ipython3",
   "version": "3.9.7"
  }
 },
 "nbformat": 4,
 "nbformat_minor": 5
}
