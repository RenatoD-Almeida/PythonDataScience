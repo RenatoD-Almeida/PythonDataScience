{
 "cells": [
  {
   "cell_type": "code",
   "execution_count": 107,
   "id": "c1137564",
   "metadata": {},
   "outputs": [
    {
     "name": "stderr",
     "output_type": "stream",
     "text": [
      "C:\\Users\\Administrador\\anaconda3\\lib\\site-packages\\pandas\\util\\_decorators.py:311: ParserWarning: Falling back to the 'python' engine because the 'c' engine does not support skipfooter; you can avoid this warning by specifying engine='python'.\n",
      "  return func(*args, **kwargs)\n"
     ]
    }
   ],
   "source": [
    "import pandas as pd\n",
    "%matplotlib inline\n",
    "\n",
    "df = pd.read_csv('2121.csv', sep=';', encoding='cp1252', usecols = [0, 1, 3, 4, 5, 6], skipfooter = 27)"
   ]
  },
  {
   "cell_type": "code",
   "execution_count": 108,
   "id": "7f7bfa10",
   "metadata": {},
   "outputs": [
    {
     "data": {
      "text/html": [
       "<div>\n",
       "<style scoped>\n",
       "    .dataframe tbody tr th:only-of-type {\n",
       "        vertical-align: middle;\n",
       "    }\n",
       "\n",
       "    .dataframe tbody tr th {\n",
       "        vertical-align: top;\n",
       "    }\n",
       "\n",
       "    .dataframe thead th {\n",
       "        text-align: right;\n",
       "    }\n",
       "</style>\n",
       "<table border=\"1\" class=\"dataframe\">\n",
       "  <thead>\n",
       "    <tr style=\"text-align: right;\">\n",
       "      <th></th>\n",
       "      <th>Ano de Lançamento</th>\n",
       "      <th>Título da obra</th>\n",
       "      <th>Gênero</th>\n",
       "      <th>País(es) produtor(es) da obra</th>\n",
       "      <th>Nacionalidade da obra</th>\n",
       "      <th>Data de lançamento</th>\n",
       "    </tr>\n",
       "  </thead>\n",
       "  <tbody>\n",
       "    <tr>\n",
       "      <th>0</th>\n",
       "      <td>2009</td>\n",
       "      <td>1983.. O Ano Azul</td>\n",
       "      <td>Documentário</td>\n",
       "      <td>Brasil</td>\n",
       "      <td>Brasileira</td>\n",
       "      <td>5/6/2009</td>\n",
       "    </tr>\n",
       "    <tr>\n",
       "      <th>1</th>\n",
       "      <td>2009</td>\n",
       "      <td>2012</td>\n",
       "      <td>Ficção</td>\n",
       "      <td>Estados Unidos</td>\n",
       "      <td>Estrangeira</td>\n",
       "      <td>13/11/2009</td>\n",
       "    </tr>\n",
       "    <tr>\n",
       "      <th>2</th>\n",
       "      <td>2009</td>\n",
       "      <td>23 Anos em 7 Segundos: 1977 - O Fim do Jejum C...</td>\n",
       "      <td>Documentário</td>\n",
       "      <td>Brasil</td>\n",
       "      <td>Brasileira</td>\n",
       "      <td>26/6/2009</td>\n",
       "    </tr>\n",
       "    <tr>\n",
       "      <th>3</th>\n",
       "      <td>2009</td>\n",
       "      <td>3 Macacos</td>\n",
       "      <td>Ficção</td>\n",
       "      <td>Turquia</td>\n",
       "      <td>Estrangeira</td>\n",
       "      <td>27/2/2009</td>\n",
       "    </tr>\n",
       "    <tr>\n",
       "      <th>4</th>\n",
       "      <td>2009</td>\n",
       "      <td>500 Dias com Ela</td>\n",
       "      <td>Ficção</td>\n",
       "      <td>Estados Unidos</td>\n",
       "      <td>Estrangeira</td>\n",
       "      <td>6/11/2009</td>\n",
       "    </tr>\n",
       "    <tr>\n",
       "      <th>5</th>\n",
       "      <td>2009</td>\n",
       "      <td>9 - A Salvação</td>\n",
       "      <td>Animação</td>\n",
       "      <td>Estados Unidos</td>\n",
       "      <td>Estrangeira</td>\n",
       "      <td>9/10/2009</td>\n",
       "    </tr>\n",
       "    <tr>\n",
       "      <th>6</th>\n",
       "      <td>2009</td>\n",
       "      <td>À Deriva</td>\n",
       "      <td>Ficção</td>\n",
       "      <td>Brasil, Estados Unidos</td>\n",
       "      <td>Brasileira</td>\n",
       "      <td>31/7/2009</td>\n",
       "    </tr>\n",
       "    <tr>\n",
       "      <th>7</th>\n",
       "      <td>2009</td>\n",
       "      <td>A Era da Estupidez</td>\n",
       "      <td>Documentário</td>\n",
       "      <td>Inglaterra</td>\n",
       "      <td>Estrangeira</td>\n",
       "      <td>22/9/2009</td>\n",
       "    </tr>\n",
       "    <tr>\n",
       "      <th>8</th>\n",
       "      <td>2009</td>\n",
       "      <td>A Era do Gelo 3</td>\n",
       "      <td>Animação</td>\n",
       "      <td>Estados Unidos</td>\n",
       "      <td>Estrangeira</td>\n",
       "      <td>3/7/2009</td>\n",
       "    </tr>\n",
       "    <tr>\n",
       "      <th>9</th>\n",
       "      <td>2009</td>\n",
       "      <td>A Erva do Rato</td>\n",
       "      <td>Ficção</td>\n",
       "      <td>Brasil</td>\n",
       "      <td>Brasileira</td>\n",
       "      <td>26/6/2009</td>\n",
       "    </tr>\n",
       "  </tbody>\n",
       "</table>\n",
       "</div>"
      ],
      "text/plain": [
       "   Ano de Lançamento                                     Título da obra  \\\n",
       "0               2009                                  1983.. O Ano Azul   \n",
       "1               2009                                               2012   \n",
       "2               2009  23 Anos em 7 Segundos: 1977 - O Fim do Jejum C...   \n",
       "3               2009                                          3 Macacos   \n",
       "4               2009                                   500 Dias com Ela   \n",
       "5               2009                                     9 - A Salvação   \n",
       "6               2009                                           À Deriva   \n",
       "7               2009                                 A Era da Estupidez   \n",
       "8               2009                                    A Era do Gelo 3   \n",
       "9               2009                                     A Erva do Rato   \n",
       "\n",
       "         Gênero País(es) produtor(es) da obra Nacionalidade da obra  \\\n",
       "0  Documentário                        Brasil            Brasileira   \n",
       "1        Ficção                Estados Unidos           Estrangeira   \n",
       "2  Documentário                        Brasil            Brasileira   \n",
       "3        Ficção                       Turquia           Estrangeira   \n",
       "4        Ficção                Estados Unidos           Estrangeira   \n",
       "5      Animação                Estados Unidos           Estrangeira   \n",
       "6        Ficção        Brasil, Estados Unidos            Brasileira   \n",
       "7  Documentário                    Inglaterra           Estrangeira   \n",
       "8      Animação                Estados Unidos           Estrangeira   \n",
       "9        Ficção                        Brasil            Brasileira   \n",
       "\n",
       "  Data de lançamento  \n",
       "0           5/6/2009  \n",
       "1         13/11/2009  \n",
       "2          26/6/2009  \n",
       "3          27/2/2009  \n",
       "4          6/11/2009  \n",
       "5          9/10/2009  \n",
       "6          31/7/2009  \n",
       "7          22/9/2009  \n",
       "8           3/7/2009  \n",
       "9          26/6/2009  "
      ]
     },
     "execution_count": 108,
     "metadata": {},
     "output_type": "execute_result"
    }
   ],
   "source": [
    "df.head(10)"
   ]
  },
  {
   "cell_type": "code",
   "execution_count": 109,
   "id": "4af95d4a",
   "metadata": {},
   "outputs": [
    {
     "data": {
      "text/plain": [
       "Ano de Lançamento                 int64\n",
       "Título da obra                   object\n",
       "Gênero                           object\n",
       "País(es) produtor(es) da obra    object\n",
       "Nacionalidade da obra            object\n",
       "Data de lançamento               object\n",
       "dtype: object"
      ]
     },
     "execution_count": 109,
     "metadata": {},
     "output_type": "execute_result"
    }
   ],
   "source": [
    "df.dtypes"
   ]
  },
  {
   "cell_type": "code",
   "execution_count": 110,
   "id": "0358a4ba",
   "metadata": {},
   "outputs": [],
   "source": [
    "# Qual o genero mais produzido pelo Brasil\n",
    "df_brasil = df[df['País(es) produtor(es) da obra'] == 'Brasil']['Gênero']\n",
    "gr_brasil = df_brasil.value_counts()"
   ]
  },
  {
   "cell_type": "code",
   "execution_count": 111,
   "id": "609e2372",
   "metadata": {},
   "outputs": [
    {
     "data": {
      "text/plain": [
       "<AxesSubplot:>"
      ]
     },
     "execution_count": 111,
     "metadata": {},
     "output_type": "execute_result"
    },
    {
     "data": {
      "image/png": "[encoded data removed]",
      "text/plain": [
       "<Figure size 432x288 with 1 Axes>"
      ]
     },
     "metadata": {
      "needs_background": "light"
     },
     "output_type": "display_data"
    }
   ],
   "source": [
    "gr_brasil.plot.barh()"
   ]
  },
  {
   "cell_type": "code",
   "execution_count": 112,
   "id": "4bd5f095",
   "metadata": {},
   "outputs": [
    {
     "data": {
      "text/plain": [
       "<AxesSubplot:>"
      ]
     },
     "execution_count": 112,
     "metadata": {},
     "output_type": "execute_result"
    },
    {
     "data": {
      "image/png": "[encoded data removed]",
      "text/plain": [
       "<Figure size 432x288 with 1 Axes>"
      ]
     },
     "metadata": {
      "needs_background": "light"
     },
     "output_type": "display_data"
    }
   ],
   "source": [
    "# Quais são os 5 paises que produzem a maior quantidade de filmes.\n",
    "df_por_filmes = df['País(es) produtor(es) da obra'].value_counts().nlargest(5)\n",
    "\n",
    "df_por_filmes.plot.barh()"
   ]
  },
  {
   "cell_type": "code",
   "execution_count": 113,
   "id": "fcbcb0cc",
   "metadata": {},
   "outputs": [
    {
     "data": {
      "text/plain": [
       "Ano de Lançamento  Gênero      \n",
       "2009               Ficção          239\n",
       "                   Documentário     58\n",
       "                   Animação         20\n",
       "2010               Ficção          244\n",
       "                   Documentário     44\n",
       "                   Animação         14\n",
       "                   Videomusical      1\n",
       "2011               Ficção          259\n",
       "                   Documentário     57\n",
       "                   Animação         20\n",
       "                   Videomusical      1\n",
       "2012               Ficção          264\n",
       "                   Documentário     44\n",
       "                   Animação         17\n",
       "2013               Ficção          319\n",
       "                   Documentário     57\n",
       "                   Animação         20\n",
       "                   Videomusical      1\n",
       "2014               Ficção          320\n",
       "                   Documentário     42\n",
       "                   Animação         25\n",
       "                   Videomusical      6\n",
       "2015               Ficção          351\n",
       "                   Documentário     72\n",
       "                   Animação         19\n",
       "                   Videomusical     13\n",
       "2016               Ficção          371\n",
       "                   Documentário     58\n",
       "                   Animação         29\n",
       "2017               Ficção          352\n",
       "                   Documentário     76\n",
       "                   Animação         35\n",
       "2018               Ficção          352\n",
       "                   Documentário     94\n",
       "                   Animação         23\n",
       "2019               Ficção          345\n",
       "                   Documentário     78\n",
       "                   Animação         20\n",
       "2020               Ficção          141\n",
       "                   Documentário     20\n",
       "                   Animação         12\n",
       "Name: Gênero, dtype: int64"
      ]
     },
     "execution_count": 113,
     "metadata": {},
     "output_type": "execute_result"
    }
   ],
   "source": [
    "# Produção por Anos e gênero: \n",
    "df_por_ano = df.groupby('Ano de Lançamento')['Gênero'].value_counts()\n",
    "df_por_ano"
   ]
  },
  {
   "cell_type": "code",
   "execution_count": 120,
   "id": "d41fddf1",
   "metadata": {},
   "outputs": [
    {
     "data": {
      "text/plain": [
       "2018    469\n",
       "2017    463\n",
       "2016    458\n",
       "2015    455\n",
       "2019    443\n",
       "2013    397\n",
       "2014    393\n",
       "2011    337\n",
       "2012    325\n",
       "2009    317\n",
       "2010    303\n",
       "2020    173\n",
       "Name: Ano de Lançamento, dtype: int64"
      ]
     },
     "execution_count": 120,
     "metadata": {},
     "output_type": "execute_result"
    }
   ],
   "source": [
    "# Quantos filmes foram produzidos por anos: Linha\n",
    "df['Ano de Lançamento'].value_counts()"
   ]
  },
  {
   "cell_type": "code",
   "execution_count": 121,
   "id": "506399ad",
   "metadata": {},
   "outputs": [
    {
     "data": {
      "text/plain": [
       "<AxesSubplot:>"
      ]
     },
     "execution_count": 121,
     "metadata": {},
     "output_type": "execute_result"
    },
    {
     "data": {
      "image/png": "[encoded data removed]",
      "text/plain": [
       "<Figure size 432x288 with 1 Axes>"
      ]
     },
     "metadata": {
      "needs_background": "light"
     },
     "output_type": "display_data"
    }
   ],
   "source": [
    "# Quantos filmes foram produzidos por anos: Tabela\n",
    "df['Ano de Lançamento'].value_counts().plot.barh()"
   ]
  },
  {
   "cell_type": "code",
   "execution_count": 129,
   "id": "fcc90b03",
   "metadata": {},
   "outputs": [
    {
     "data": {
      "text/plain": [
       "Ano de Lançamento  Gênero      \n",
       "2009               Ficção          43\n",
       "                   Documentário    39\n",
       "                   Animação         1\n",
       "2010               Ficção          43\n",
       "                   Documentário    31\n",
       "2011               Ficção          57\n",
       "                   Documentário    40\n",
       "                   Animação         1\n",
       "                   Videomusical     1\n",
       "2012               Ficção          43\n",
       "                   Documentário    35\n",
       "                   Animação         2\n",
       "2013               Ficção          70\n",
       "                   Documentário    46\n",
       "                   Animação         2\n",
       "2014               Ficção          63\n",
       "                   Documentário    36\n",
       "                   Animação         4\n",
       "2015               Ficção          74\n",
       "                   Documentário    52\n",
       "2016               Ficção          85\n",
       "                   Documentário    43\n",
       "                   Animação         1\n",
       "2017               Ficção          74\n",
       "                   Documentário    58\n",
       "                   Animação         6\n",
       "2018               Ficção          81\n",
       "                   Documentário    78\n",
       "                   Animação         1\n",
       "2019               Ficção          77\n",
       "                   Documentário    66\n",
       "                   Animação         2\n",
       "2020               Ficção          34\n",
       "                   Documentário    14\n",
       "                   Animação         2\n",
       "Name: Gênero, dtype: int64"
      ]
     },
     "execution_count": 129,
     "metadata": {},
     "output_type": "execute_result"
    }
   ],
   "source": [
    "# Quantos filmes forma produzidos por ano no brasil: linha\n",
    "df_brasil_genAno = df[df['País(es) produtor(es) da obra'] == \"Brasil\"][['Gênero','Ano de Lançamento']]\n",
    "df_brasil_genAno.groupby(\"Ano de Lançamento\")['Gênero'].value_counts()"
   ]
  },
  {
   "cell_type": "code",
   "execution_count": 130,
   "id": "764494c6",
   "metadata": {},
   "outputs": [],
   "source": [
    "# Converter campo data de lançamento em data\n",
    "df['Data de lançamento'] = pd.to_datetime(df['Data de lançamento'])"
   ]
  }
 ],
 "metadata": {
  "kernelspec": {
   "display_name": "Python 3 (ipykernel)",
   "language": "python",
   "name": "python3"
  },
  "language_info": {
   "codemirror_mode": {
    "name": "ipython",
    "version": 3
   },
   "file_extension": ".py",
   "mimetype": "text/x-python",
   "name": "python",
   "nbconvert_exporter": "python",
   "pygments_lexer": "ipython3",
   "version": "3.9.7"
  }
 },
 "nbformat": 4,
 "nbformat_minor": 5
}
